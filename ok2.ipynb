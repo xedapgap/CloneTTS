import gtts
import pysrt
import librosa
import numpy as np
from pydub import AudioSegment
from tqdm.auto import tqdm
import io
from IPython.display import Audio, display
import os

# Tần số lấy mẫu (sample rate) mục tiêu cho file audio cuối cùng.
# 24000 Hz là một lựa chọn tốt cho giọng nói từ gTTS.
TARGET_SR = 24000

def ms_from_srt_time(srt_time):
    """Chuyển đổi đối tượng thời gian của pysrt sang milliseconds."""
    return (srt_time.hours * 3600 + srt_time.minutes * 60 + srt_time.seconds) * 1000 + srt_time.milliseconds

def adjust_audio_speed(audio_data, target_duration_ms, max_rate=1.25, min_rate=0.85):
    """
    Điều chỉnh tốc độ audio sao cho khớp gần nhất với timeline,
    nhưng không vượt quá giới hạn (0.85x - 1.25x).
    Nếu ngắn hơn timeline thì giữ nguyên và thêm silence.
    """
    original_duration_ms = librosa.get_duration(y=audio_data, sr=TARGET_SR) * 1000

    if original_duration_ms == 0 or target_duration_ms <= 0:
        return audio_data, 0  # Không thay đổi, không cần silence

    rate = original_duration_ms / target_duration_ms

    # Nếu audio dài hơn timeline -> cần tăng tốc
    if rate > 1.0:
        # Giới hạn tốc độ tối đa
        rate = min(rate, max_rate)
        y_stretched = librosa.effects.time_stretch(y=audio_data, rate=rate)
        new_duration = librosa.get_duration(y=y_stretched, sr=TARGET_SR) * 1000
        return y_stretched, max(0, target_duration_ms - new_duration)

    # Nếu audio ngắn hơn timeline -> giữ nguyên, thêm silence bù
    if rate < 1.0:
        # Không kéo dãn để tránh méo tiếng
        return audio_data, target_duration_ms - original_duration_ms

    return audio_data, 0


def srt_to_full_audio(srt_path, output_path, lang="vi"):
    """
    Đọc file SRT, tạo TTS cho mỗi dòng, điều chỉnh tốc độ và ghép thành một file audio hoàn chỉnh.
    """
    try:
        subs = pysrt.open(srt_path, encoding='utf-8')
        if not subs:
            print(f"Lỗi: File SRT '{srt_path}' rỗng hoặc không hợp lệ.")
            return False
    except Exception as e:
        print(f"Lỗi: Không thể đọc file SRT '{srt_path}'. Chi tiết: {e}")
        return False

    # Xác định tổng thời lượng từ phụ đề cuối cùng
    total_duration_ms = ms_from_srt_time(subs[-1].end)
    print(f"Tổng thời lượng audio dự kiến: {total_duration_ms / 1000:.2f} giây.")

    # Tạo một track audio im lặng với tổng thời lượng đã xác định
    final_audio = AudioSegment.silent(duration=total_duration_ms, frame_rate=TARGET_SR)

    # Vòng lặp xử lý từng dòng phụ đề
    for sub in tqdm(subs, desc="Đang xử lý phụ đề"):
        start_ms = ms_from_srt_time(sub.start)
        end_ms = ms_from_srt_time(sub.end)
        timeline_duration_ms = end_ms - start_ms
        text_to_read = sub.text.strip().replace('\n', ' ')

        if timeline_duration_ms <= 0 or not text_to_read:
            continue
            
        # 1. Tạo âm thanh TTS trong bộ nhớ
        try:
            mp3_fp = io.BytesIO()
            tts = gtts.gTTS(text=text_to_read, lang=lang)
            tts.write_to_fp(mp3_fp)
            mp3_fp.seek(0)
        except Exception as e:
            print(f"\nCảnh báo: Không tạo được TTS cho dòng: '{text_to_read}'. Lỗi: {e}")
            continue

        # 2. Đọc audio và điều chỉnh tốc độ
        y, sr = librosa.load(mp3_fp, sr=TARGET_SR, mono=True)
        y_adjusted = adjust_audio_speed(y, timeline_duration_ms)
        
        if y_adjusted.size == 0:
            continue

        # 3. Chuyển numpy array thành AudioSegment của pydub
        # Chuyển đổi float array (-1 đến 1) sang int16 array
        y_int16 = (y_adjusted * 32767).astype(np.int16)
        segment_audio = AudioSegment(
            y_int16.tobytes(),
            frame_rate=TARGET_SR,
            sample_width=y_int16.dtype.itemsize,
            channels=1
        )

        # 4. Ghép (ghi đè) đoạn audio đã xử lý vào track chính
        final_audio = final_audio.overlay(segment_audio, position=start_ms)

    # Xuất file audio cuối cùng
    try:
        output_format = output_path.split('.')[-1]
        print(f"\nĐang xuất file ra '{output_path}'...")
        final_audio.export(output_path, format=output_format)
        print(f"✅ Hoàn tất! Đã tạo file âm thanh thành công.")
        return True
    except Exception as e:
        print(f"\nLỗi: Không thể xuất file audio. Chi tiết: {e}")
        return False
        
print("✅ Đã định nghĩa xong các hàm xử lý!")
===============================
# --- BẠN CÓ THỂ THAY ĐỔI CÁC THAM SỐ DƯỚI ĐÂY ---

# Lựa chọn 1: Sử dụng file SRT mẫu đã tạo ở trên
srt_file_path = "/example_split_1.srt" 

# Lựa chọn 2: Upload file SRT của riêng bạn
# Bỏ comment (xóa dấu #) ở 3 dòng dưới nếu bạn muốn upload file
# from google.colab import files
# uploaded = files.upload()
# srt_file_path = list(uploaded.keys())[0]

# Tên file audio đầu ra (có thể là .mp3 hoặc .wav)
output_audio_path = "audio_ket_qua.mp3"

# Ngôn ngữ của phụ đề (vd: 'vi' cho tiếng Việt, 'en' cho tiếng Anh)
language = "vi"
# ----------------------------------------------------


# Kiểm tra xem file srt có tồn tại không
if os.path.exists(srt_file_path):
    print(f"Bắt đầu xử lý file: '{srt_file_path}'")
    # Gọi hàm chính để thực hiện
    success = srt_to_full_audio(srt_file_path, output_audio_path, lang=language)
    
    # Nếu thành công, hiển thị trình phát nhạc để nghe thử
    if success:
        print("\nNghe thử kết quả bên dưới:")
        display(Audio(output_audio_path, autoplay=False))
else:
    print(f"Lỗi: Không tìm thấy file '{srt_file_path}'. Vui lòng tạo file mẫu hoặc upload file của bạn.")
