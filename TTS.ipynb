{
  "nbformat": 4,
  "nbformat_minor": 0,
  "metadata": {
    "colab": {
      "provenance": [],
      "collapsed_sections": [
        "AnNkJH3Z5m4G",
        "OOSUWWEw5H-t",
        "k2j5fAeD5QOt"
      ],
      "gpuType": "T4"
    },
    "kernelspec": {
      "name": "python3",
      "display_name": "Python 3"
    },
    "language_info": {
      "name": "python"
    },
    "accelerator": "GPU"
  },
  "cells": [
    {
      "cell_type": "markdown",
      "source": [
        "# Hướng Dẫn Sử Dụng Clone Giọng Đọc 🎤 - Phát triển bởi Lý Trần"
      ],
      "metadata": {
        "id": "AnNkJH3Z5m4G"
      }
    },
    {
      "cell_type": "markdown",
      "source": [
        "## 1. Cài đặt ứng dụng\n",
        "\n",
        "Chờ tải kho lưu trữ từ GitHub và cài đặt tất cả các gói cần thiết"
      ],
      "metadata": {
        "id": "OOSUWWEw5H-t"
      }
    },
    {
      "cell_type": "code",
      "execution_count": null,
      "metadata": {
        "id": "bO7B4GlvbY6n",
        "cellView": "form"
      },
      "outputs": [],
      "source": [
        "#@title ⚙️ Cài đặt\n",
        "!git clone https://github.com/xedapgap/CloneTTS.git\n",
        "%cd /content/CloneTTS/\n",
        "\n",
        "# Cài torch + torchvision + torchaudio (CUDA 12.1)\n",
        "!pip install --upgrade --force-reinstall torch==2.5.0 torchvision==0.20.0 torchaudio==2.5.0 --index-url https://download.pytorch.org/whl/cu121\n",
        "\n",
        "# Fix numpy / numba\n",
        "!pip install --upgrade --force-reinstall \"numpy<2.1\" numba librosa\n",
        "\n",
        "# Cài thêm dependencies\n",
        "!pip install chatterbox-tts edge_tts gradio pydub scipy webrtcvad peft srt\n",
        "!apt -y install ffmpeg\n",
        "\n",
        "# Patch app.py để bật share=True\n",
        "file_path = \"app.py\"\n",
        "with open(file_path, \"r\", encoding=\"utf-8\") as f:\n",
        "    code = f.read()\n",
        "updated_code = code.replace(\n",
        "    \"demo.queue().launch()\",\n",
        "    \"demo.queue().launch(share=True)\"\n",
        ")\n",
        "with open(file_path, \"w\", encoding=\"utf-8\") as f:\n",
        "    f.write(updated_code)\n",
        "print(\"✅ Updated 'demo.queue().launch()' to include share=True\")"
      ]
    },
    {
      "cell_type": "markdown",
      "source": [
        "## 2. Chạy ứng dụng\n",
        "\n",
        "Sau khi chạy ứng dụng sẽ có 1 liên kết để mở ứng dụng"
      ],
      "metadata": {
        "id": "k2j5fAeD5QOt"
      }
    },
    {
      "cell_type": "code",
      "source": [
        "#@title ⌛️ Chạy\n",
        "%cd /content/CloneTTS/\n",
        "!python app.py"
      ],
      "metadata": {
        "id": "NeApPz44dgPP",
        "cellView": "form"
      },
      "execution_count": null,
      "outputs": []
    }
  ]
}
